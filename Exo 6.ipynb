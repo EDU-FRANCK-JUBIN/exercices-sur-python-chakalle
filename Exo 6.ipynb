{
 "cells": [
  {
   "cell_type": "markdown",
   "metadata": {},
   "source": [
    "# Exo 1:"
   ]
  },
  {
   "cell_type": "code",
   "execution_count": 4,
   "metadata": {},
   "outputs": [
    {
     "name": "stdout",
     "output_type": "stream",
     "text": [
      "16.755160819145562\n",
      "56.548667764616276\n"
     ]
    }
   ],
   "source": [
    "from math import *\n",
    "\n",
    "cone1=[2,4]\n",
    "cone2=[3,6]\n",
    "\n",
    "\n",
    "def calcVolume (r,h):\n",
    "    volume=(pi*r*r*h)/3\n",
    "    print(volume)\n",
    "\n",
    "    \n",
    "calcVolume(cone1[0],cone1[1])\n",
    "calcVolume(cone2[0],cone2[1])\n"
   ]
  },
  {
   "cell_type": "markdown",
   "metadata": {},
   "source": [
    "# Exo 2:"
   ]
  },
  {
   "cell_type": "code",
   "execution_count": 17,
   "metadata": {},
   "outputs": [
    {
     "name": "stdout",
     "output_type": "stream",
     "text": [
      "il est premier\n"
     ]
    }
   ],
   "source": [
    "nombre = 11\n",
    "\n",
    "def premier(nb):\n",
    "    tab=[]\n",
    "    for i in range(1,nb+1):\n",
    "        if nb%i==0 :\n",
    "            tab.append(i)\n",
    "    if(len(tab)==2):\n",
    "        if 1 in tab and nb in tab :\n",
    "            print(\"il est premier\")\n",
    "    else:\n",
    "        print(\"voici les diviseur ses diviseur \\n\")\n",
    "        print(tab)\n",
    "\n",
    "premier(nombre)"
   ]
  },
  {
   "cell_type": "markdown",
   "metadata": {},
   "source": [
    "# Exo 3:"
   ]
  },
  {
   "cell_type": "code",
   "execution_count": 63,
   "metadata": {},
   "outputs": [
    {
     "name": "stdout",
     "output_type": "stream",
     "text": [
      "2.7182818284590455\n",
      "2.0000046063728405e-10\n"
     ]
    }
   ],
   "source": [
    "nombre=50\n",
    "e=2.71828182825904523536\n",
    "\n",
    "def fac(nb):\n",
    "    x=1\n",
    "    for i in range(1,nb+1):\n",
    "        x=x*i\n",
    "    return x\n",
    "    \n",
    "def constE (nb):\n",
    "    x=0\n",
    "    for i in range(0,nb+1):\n",
    "        x=x+(1/fac(i))\n",
    "    print(x)\n",
    "    return x\n",
    "    \n",
    "constEcal = constE(nombre)\n",
    "print(constEcal-e)"
   ]
  },
  {
   "cell_type": "code",
   "execution_count": null,
   "metadata": {},
   "outputs": [],
   "source": []
  },
  {
   "cell_type": "markdown",
   "metadata": {},
   "source": [
    "# Exo 4:"
   ]
  },
  {
   "cell_type": "code",
   "execution_count": 57,
   "metadata": {},
   "outputs": [
    {
     "name": "stdout",
     "output_type": "stream",
     "text": [
      "atcgcgcgatagagatagatatagctagatagtgcgagt\n",
      "['a', 't', 'c', 'g', 'c', 'g', 'c', 'g', 'a', 't', 'a', 'g', 'a', 'g', 'a', 't', 'a', 'g', 'a', 't', 'a', 't', 'a', 'g', 'c', 't', 'a', 'g', 'a', 't', 'a', 'g', 't', 'g', 'c', 'g', 'a', 'g', 't']\n",
      "chaine valide\n",
      "séquance à chercher\n",
      "cg\n",
      "4\n",
      "10.526315789473685\n"
     ]
    }
   ],
   "source": [
    "chaine1=[\"a\",\"t\",\"r\",\"d\",\"g\"]\n",
    "chaine2=[\"a\",\"t\",\"c\",\"g\",\"a\",\"t\",\"g\",\"c\"]\n",
    "\n",
    "def check (chaine):\n",
    "    tab= [\"a\",\"t\",\"c\",\"g\"]\n",
    "    if chaine:\n",
    "        for i in range (0,len(chaine)):\n",
    "            if chaine[i] not in tab:\n",
    "                print(\"chaine non valide\")\n",
    "                return False\n",
    "        print(\"chaine valide\")\n",
    "        return True\n",
    "\n",
    "def seq (chaineEnter,chaine):\n",
    "    print(\"séquance à chercher\")\n",
    "    nbSeq=chaineEnter.count(input())\n",
    "    print(nbSeq)\n",
    "    prop=nbSeq*100/(len(chaine)-1)\n",
    "    print(prop)\n",
    "    \n",
    "def saisie():\n",
    "    chaineEnter=input()\n",
    "    chaine=list(chaineEnter)\n",
    "    print(chaine)\n",
    "    valide=check(chaine)\n",
    "    if not valide:\n",
    "        return\n",
    "    seq(chaineEnter,chaine)\n",
    "\n",
    "saisie()\n",
    "\n",
    "\n"
   ]
  },
  {
   "cell_type": "markdown",
   "metadata": {},
   "source": [
    "# Exo 5:"
   ]
  },
  {
   "cell_type": "code",
   "execution_count": 64,
   "metadata": {},
   "outputs": [
    {
     "name": "stdout",
     "output_type": "stream",
     "text": [
      "10\n",
      "20\n",
      "15.0\n"
     ]
    }
   ],
   "source": [
    "tab =[10,18,14,20,12,16]\n",
    "\n",
    "def moyenne (tabNote):\n",
    "    somme=0\n",
    "    for note in tabNote:\n",
    "        somme+=note\n",
    "    return somme/len(tabNote)\n",
    "    \n",
    "def calc (tab):\n",
    "    print(min(tab))\n",
    "    print(max(tab))\n",
    "    print(moyenne(tab))\n",
    "    \n",
    "calc(tab)"
   ]
  },
  {
   "cell_type": "markdown",
   "metadata": {},
   "source": [
    "# Exo 6:"
   ]
  },
  {
   "cell_type": "code",
   "execution_count": 62,
   "metadata": {},
   "outputs": [
    {
     "name": "stdout",
     "output_type": "stream",
     "text": [
      "Veuillez saisir un entier entre 1 et 3999 : 900\n",
      "DCD\n"
     ]
    }
   ],
   "source": [
    "nb = int(input(\"Veuillez saisir un entier entre 1 et 3999 : \"))\n",
    "\n",
    "\n",
    "output = \"\"\n",
    "\n",
    "def replaceToRoman(value, letter):\n",
    "    global nb\n",
    "    global output\n",
    "    if((nb / int(value)) > 0):\n",
    "        output += str(letter) * int(nb / int(value))\n",
    "        nb = nb % int(value)\n",
    "\n",
    "def replaceNumberToRoman():\n",
    "    replaceToRoman(1000,'M')\n",
    "    replaceToRoman(500,'D')\n",
    "    replaceToRoman(400,'CD')        \n",
    "    replaceToRoman(100,'C')        \n",
    "    replaceToRoman(50,'L')        \n",
    "    replaceToRoman(10,'X')\n",
    "    replaceToRoman(9,'IX')\n",
    "    replaceToRoman(5,'V')\n",
    "    replaceToRoman(4,'IV')\n",
    "    replaceToRoman(1,'I')\n",
    "\n",
    "replaceNumberToRoman()\n",
    "\n",
    "print (output)"
   ]
  }
 ],
 "metadata": {
  "kernelspec": {
   "display_name": "Python 3",
   "language": "python",
   "name": "python3"
  },
  "language_info": {
   "codemirror_mode": {
    "name": "ipython",
    "version": 3
   },
   "file_extension": ".py",
   "mimetype": "text/x-python",
   "name": "python",
   "nbconvert_exporter": "python",
   "pygments_lexer": "ipython3",
   "version": "3.7.4"
  }
 },
 "nbformat": 4,
 "nbformat_minor": 2
}
